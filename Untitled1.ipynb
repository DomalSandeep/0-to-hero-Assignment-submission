{
  "nbformat": 4,
  "nbformat_minor": 0,
  "metadata": {
    "colab": {
      "name": "Untitled1.ipynb",
      "provenance": [],
      "authorship_tag": "ABX9TyO3Ml/NrF3VPmreyE90DEqE",
      "include_colab_link": true
    },
    "kernelspec": {
      "name": "python3",
      "display_name": "Python 3"
    },
    "language_info": {
      "name": "python"
    }
  },
  "cells": [
    {
      "cell_type": "markdown",
      "metadata": {
        "id": "view-in-github",
        "colab_type": "text"
      },
      "source": [
        "<a href=\"https://colab.research.google.com/github/Sandeep-n143/0-to-hero-Assignment-submission/blob/main/Untitled1.ipynb\" target=\"_parent\"><img src=\"https://colab.research.google.com/assets/colab-badge.svg\" alt=\"Open In Colab\"/></a>"
      ]
    },
    {
      "cell_type": "code",
      "source": [
        "# take multiple numbers as input and print the sum\n",
        "# 10 20 30 40 50 60\n",
        "x=[int(i) for i in input(\"enter integer values:\").split()]\n",
        "sum=0\n",
        "for j in x:\n",
        "  sum+= j# sum = sum + j\n",
        "  print (sum)"
      ],
      "metadata": {
        "colab": {
          "base_uri": "https://localhost:8080/"
        },
        "id": "FGNCGH8Dyprt",
        "outputId": "d3980ce7-645f-4d16-d744-3e955ef7e310"
      },
      "execution_count": 5,
      "outputs": [
        {
          "output_type": "stream",
          "name": "stdout",
          "text": [
            "enter integer values:10 40 70\n",
            "10\n",
            "50\n",
            "120\n"
          ]
        }
      ]
    }
  ]
}