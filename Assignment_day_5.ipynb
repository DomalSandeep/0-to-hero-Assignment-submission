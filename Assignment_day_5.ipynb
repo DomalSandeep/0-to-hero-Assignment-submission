{
  "nbformat": 4,
  "nbformat_minor": 0,
  "metadata": {
    "colab": {
      "name": "Assignment day 5.ipynb",
      "provenance": [],
      "authorship_tag": "ABX9TyOYivq6DghB+4nxFL7C39c3",
      "include_colab_link": true
    },
    "kernelspec": {
      "name": "python3",
      "display_name": "Python 3"
    },
    "language_info": {
      "name": "python"
    }
  },
  "cells": [
    {
      "cell_type": "markdown",
      "metadata": {
        "id": "view-in-github",
        "colab_type": "text"
      },
      "source": [
        "<a href=\"https://colab.research.google.com/github/Sandeep-n143/0-to-hero-Assignment-submission/blob/main/Assignment_day_5.ipynb\" target=\"_parent\"><img src=\"https://colab.research.google.com/assets/colab-badge.svg\" alt=\"Open In Colab\"/></a>"
      ]
    },
    {
      "cell_type": "code",
      "execution_count": null,
      "metadata": {
        "id": "sn6jkrUURSM7"
      },
      "outputs": [],
      "source": [
        ""
      ]
    },
    {
      "cell_type": "markdown",
      "source": [
        "Assignment day 5"
      ],
      "metadata": {
        "id": "P7-puq1MRSrY"
      }
    },
    {
      "cell_type": "code",
      "source": [
        "# use filter function to find out the elements from list th are divisible by 3 & 5.\n",
        "\n",
        "def fun(n):\n",
        "  break n % 3 == 0 and n % 5 == 0\n",
        "  \n",
        "li = list(range(1, 501)) # creating list from 1 to 500\n",
        "\n",
        "print(list(filter(fun, li)))"
      ],
      "metadata": {
        "colab": {
          "base_uri": "https://localhost:8080/",
          "height": 131
        },
        "id": "Dr1Ohp5URXCP",
        "outputId": "92c63a4a-fa41-40e2-f07b-3c4203f2f6aa"
      },
      "execution_count": 4,
      "outputs": [
        {
          "output_type": "error",
          "ename": "SyntaxError",
          "evalue": "ignored",
          "traceback": [
            "\u001b[0;36m  File \u001b[0;32m\"<ipython-input-4-41786fe88c61>\"\u001b[0;36m, line \u001b[0;32m4\u001b[0m\n\u001b[0;31m    break n % 3 == 0 and n % 5 == 0\u001b[0m\n\u001b[0m          ^\u001b[0m\n\u001b[0;31mSyntaxError\u001b[0m\u001b[0;31m:\u001b[0m invalid syntax\n"
          ]
        }
      ]
    }
  ]
}