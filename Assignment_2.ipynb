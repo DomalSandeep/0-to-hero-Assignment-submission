{
  "nbformat": 4,
  "nbformat_minor": 0,
  "metadata": {
    "colab": {
      "name": "Assignment 2.ipynb",
      "provenance": [],
      "authorship_tag": "ABX9TyMVkryjemby/14ZiMS/bJCX",
      "include_colab_link": true
    },
    "kernelspec": {
      "name": "python3",
      "display_name": "Python 3"
    },
    "language_info": {
      "name": "python"
    }
  },
  "cells": [
    {
      "cell_type": "markdown",
      "metadata": {
        "id": "view-in-github",
        "colab_type": "text"
      },
      "source": [
        "<a href=\"https://colab.research.google.com/github/Sandeep-n143/0-to-hero-Assignment-submission/blob/main/Assignment_2.ipynb\" target=\"_parent\"><img src=\"https://colab.research.google.com/assets/colab-badge.svg\" alt=\"Open In Colab\"/></a>"
      ]
    },
    {
      "cell_type": "code",
      "execution_count": 2,
      "metadata": {
        "colab": {
          "base_uri": "https://localhost:8080/"
        },
        "id": "UOFch7PzMhFf",
        "outputId": "1c524896-6f12-498c-a384-2cf2bd3446e8"
      },
      "outputs": [
        {
          "output_type": "stream",
          "name": "stdout",
          "text": [
            "Congratulation you have successfully entered the lottery and got a chance to win the lottery!! \n",
            "select a word from:  hello coders\n",
            "h\n",
            "Congratulations!!! You hit the bull's eye!!\n"
          ]
        }
      ],
      "source": [
        "from re import L\n",
        "\n",
        "\n",
        "a=\"hello coders\"\n",
        "\n",
        "print(\"Congratulation you have successfully entered the lottery and got a chance to win the lottery!! \")\n",
        "print(\"select a word from: \",a)\n",
        "inputs=input()\n",
        "if inputs==a[0].lower() or inputs==a[1].lower() or inputs==a[4].lower() or inputs==a[6].lower() or inputs==a[8].lower() :\n",
        "\n",
        "    print(\"Congratulations!!! You hit the bull's eye!!\")\n",
        "else : \n",
        "    print(\"Better luck next time...\")"
      ]
    }
  ]
}