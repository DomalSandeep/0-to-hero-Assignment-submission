{
  "nbformat": 4,
  "nbformat_minor": 0,
  "metadata": {
    "colab": {
      "name": "Assignment day 3.ipynb",
      "provenance": [],
      "authorship_tag": "ABX9TyMYNovWRK3YSM+/RH/RotiP",
      "include_colab_link": true
    },
    "kernelspec": {
      "name": "python3",
      "display_name": "Python 3"
    },
    "language_info": {
      "name": "python"
    }
  },
  "cells": [
    {
      "cell_type": "markdown",
      "metadata": {
        "id": "view-in-github",
        "colab_type": "text"
      },
      "source": [
        "<a href=\"https://colab.research.google.com/github/Sandeep-n143/0-to-hero-Assignment-submission/blob/main/Assignment_day_3.ipynb\" target=\"_parent\"><img src=\"https://colab.research.google.com/assets/colab-badge.svg\" alt=\"Open In Colab\"/></a>"
      ]
    },
    {
      "cell_type": "markdown",
      "source": [
        "Assignment day 3\n",
        "\n",
        "\n"
      ],
      "metadata": {
        "id": "X4w1LHZWQU10"
      }
    },
    {
      "cell_type": "code",
      "source": [
        "# from a dict, how can we print the key whose value is maximum Day 3 assignment\n",
        "s = input(\"Enter any Word: \")\n",
        "s = s.replace(\" \", \"\")\n",
        "d = {}\n",
        "for i in s:\n",
        "  d[i] = d.get(i, 0) + 1\n",
        " \n",
        "print(d)\n",
        "max_key = max(d, key = d.get)\n",
        "print(max_key)"
      ],
      "metadata": {
        "colab": {
          "base_uri": "https://localhost:8080/"
        },
        "id": "YIA3Jei_QcL8",
        "outputId": "77fb0e2c-418f-4d39-bd22-902cd9c3242e"
      },
      "execution_count": 1,
      "outputs": [
        {
          "output_type": "stream",
          "name": "stdout",
          "text": [
            "Enter any Word: r\n",
            "{'r': 1}\n",
            "r\n"
          ]
        }
      ]
    }
  ]
}