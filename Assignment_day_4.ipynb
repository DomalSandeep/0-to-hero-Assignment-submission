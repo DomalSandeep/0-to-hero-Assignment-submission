{
  "nbformat": 4,
  "nbformat_minor": 0,
  "metadata": {
    "colab": {
      "name": "Assignment day 4.ipynb",
      "provenance": [],
      "authorship_tag": "ABX9TyN09+x2q+0g5YwV4m3vo9vi",
      "include_colab_link": true
    },
    "kernelspec": {
      "name": "python3",
      "display_name": "Python 3"
    },
    "language_info": {
      "name": "python"
    }
  },
  "cells": [
    {
      "cell_type": "markdown",
      "metadata": {
        "id": "view-in-github",
        "colab_type": "text"
      },
      "source": [
        "<a href=\"https://colab.research.google.com/github/Sandeep-n143/0-to-hero-Assignment-submission/blob/main/Assignment_day_4.ipynb\" target=\"_parent\"><img src=\"https://colab.research.google.com/assets/colab-badge.svg\" alt=\"Open In Colab\"/></a>"
      ]
    },
    {
      "cell_type": "markdown",
      "source": [
        "Assignment day 4"
      ],
      "metadata": {
        "id": "x5nFDkjLQ0JZ"
      }
    },
    {
      "cell_type": "code",
      "source": [
        "\n",
        "def factorial(n):\n",
        "    fact = 1\n",
        "    while 1 < n:\n",
        "        fact = fact * n\n",
        "        n -= 1\n",
        "    print(\"Factorial is :\", fact)\n",
        "    \n",
        "factorial(int(input(\"Enter a number: \")))"
      ],
      "metadata": {
        "colab": {
          "base_uri": "https://localhost:8080/"
        },
        "id": "aJlZS0ZkQ57D",
        "outputId": "59289d08-bf90-41a8-be97-70abba947905"
      },
      "execution_count": 1,
      "outputs": [
        {
          "output_type": "stream",
          "name": "stdout",
          "text": [
            "Enter a number: 56\n",
            "Factorial is : 710998587804863451854045647463724949736497978881168458687447040000000000000\n"
          ]
        }
      ]
    }
  ]
}