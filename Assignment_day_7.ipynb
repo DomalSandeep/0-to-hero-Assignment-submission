{
  "nbformat": 4,
  "nbformat_minor": 0,
  "metadata": {
    "colab": {
      "name": "Assignment day 7.ipynb",
      "provenance": [],
      "authorship_tag": "ABX9TyNzIUMwsQ/NA2MnNBP2jia5",
      "include_colab_link": true
    },
    "kernelspec": {
      "name": "python3",
      "display_name": "Python 3"
    },
    "language_info": {
      "name": "python"
    }
  },
  "cells": [
    {
      "cell_type": "markdown",
      "metadata": {
        "id": "view-in-github",
        "colab_type": "text"
      },
      "source": [
        "<a href=\"https://colab.research.google.com/github/Sandeep-n143/0-to-hero-Assignment-submission/blob/main/Assignment_day_7.ipynb\" target=\"_parent\"><img src=\"https://colab.research.google.com/assets/colab-badge.svg\" alt=\"Open In Colab\"/></a>"
      ]
    },
    {
      "cell_type": "code",
      "execution_count": null,
      "metadata": {
        "id": "n2MHsxebS5dV"
      },
      "outputs": [],
      "source": [
        ""
      ]
    },
    {
      "cell_type": "markdown",
      "source": [
        "Assignment day 7"
      ],
      "metadata": {
        "id": "Q58hcKGxS7NH"
      }
    },
    {
      "cell_type": "code",
      "source": [
        "# Day 7 Assignment - Python Database Connection Project which updates any one value in the table and select all the table data and print it.\n",
        "\n",
        "import mysql.connector as sql           # importing module\n",
        "\n",
        "# Connecting the local mysql database\n",
        "database = sql.connect(host = 'localhost', user = 'root', passwd = 'ferrari458', database = 'schooldata')\n",
        "\n",
        "cur = database.cursor()\n",
        "\n",
        "\n",
        "cur.execute(\"update student set Eng_mark = 80 where Roll_no = 122\")     # Update the record \n",
        "cur.execute(\"select * from student\")        # View the table\n",
        "\n",
        "for i in cur:\n",
        "    print(i)\n",
        "\n",
        "cur.close()\n",
        "database.commit()       # commit changes or save changes."
      ],
      "metadata": {
        "id": "k1GT8b_sS9oZ"
      },
      "execution_count": null,
      "outputs": []
    }
  ]
}