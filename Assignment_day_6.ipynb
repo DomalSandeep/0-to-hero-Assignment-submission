{
  "nbformat": 4,
  "nbformat_minor": 0,
  "metadata": {
    "colab": {
      "name": "Assignment day 6.ipynb",
      "provenance": [],
      "authorship_tag": "ABX9TyO/uq/0dXuVMMgJqTZwxqcr",
      "include_colab_link": true
    },
    "kernelspec": {
      "name": "python3",
      "display_name": "Python 3"
    },
    "language_info": {
      "name": "python"
    }
  },
  "cells": [
    {
      "cell_type": "markdown",
      "metadata": {
        "id": "view-in-github",
        "colab_type": "text"
      },
      "source": [
        "<a href=\"https://colab.research.google.com/github/Sandeep-n143/0-to-hero-Assignment-submission/blob/main/Assignment_day_6.ipynb\" target=\"_parent\"><img src=\"https://colab.research.google.com/assets/colab-badge.svg\" alt=\"Open In Colab\"/></a>"
      ]
    },
    {
      "cell_type": "code",
      "execution_count": null,
      "metadata": {
        "id": "S8rKnWbZSPuS"
      },
      "outputs": [],
      "source": [
        ""
      ]
    },
    {
      "cell_type": "markdown",
      "source": [
        "Assignment day 6"
      ],
      "metadata": {
        "id": "yG9JNGxlSQpZ"
      }
    },
    {
      "cell_type": "code",
      "source": [
        "# Day 6 Assignment : Floor divison of any two number by using Decorators.\n",
        "\n",
        "\n",
        "def mod_div(fun):\n",
        "\tdef deno(a, b):\n",
        "\t\tif a < b :\n",
        "\t\t\ta, b = b, a\n",
        "\t\treturn fun(a, b)\n",
        "\treturn deno\n",
        "\t\n",
        "@mod_div\n",
        "def div(a, b):\n",
        "\treturn  a // b\n",
        "\n",
        "a, b = (int(i) for i in input(\"Enter two Nunbers: \").split())\n",
        "\n",
        "\n",
        "print(div(a, b))"
      ],
      "metadata": {
        "colab": {
          "base_uri": "https://localhost:8080/"
        },
        "id": "9yj7fJuVSTNX",
        "outputId": "4cc56687-ac2a-4f99-9fb6-7a9c978df239"
      },
      "execution_count": 1,
      "outputs": [
        {
          "output_type": "stream",
          "name": "stdout",
          "text": [
            "Enter two Nunbers: 30 50\n",
            "1\n"
          ]
        }
      ]
    }
  ]
}